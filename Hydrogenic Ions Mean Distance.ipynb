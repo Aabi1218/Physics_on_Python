{
 "cells": [
  {
   "cell_type": "markdown",
   "id": "cba91469-d5a9-4cdb-b4ce-d3d0d7846c19",
   "metadata": {},
   "source": [
    "## Solving for Mean Distance of ONE Electron from HYDROGENIC IONS(special cases)\n",
    "For infinite mass nucleus case of ANY HYDROGENIC ion(1 ELECTRON), we will calculate the mean distance of electron from nucleus.\n",
    "\n",
    "\n",
    "Assumptions\n",
    "\n",
    "    1. Mass of nucleus is infinite \n",
    "    2. No distance between protons.\n",
    "\n",
    "These assumptions make sure that our wavefunction stays simple and does not involve angular parts of wavefunction when finding mean distance of electron from nucleus.\n"
   ]
  },
  {
   "cell_type": "code",
   "execution_count": 10,
   "id": "700b4d1a-463c-42b4-899c-4587a24fdfa2",
   "metadata": {},
   "outputs": [],
   "source": [
    "import sympy as smp\n",
    "import numpy as np\n",
    "import matplotlib.pyplot as plt"
   ]
  },
  {
   "cell_type": "markdown",
   "id": "167e9aa4-832f-4e52-ac57-35953b2da47e",
   "metadata": {},
   "source": [
    "## Wavefunction:\n",
    "Due to our assumptions, we use the hydrogenic wavefunction for the case. It kind of makes the process of solving it unimpressive but we can compare it with other solutions and study the energy, radius and other metrics in detail.\n",
    "$$\n",
    "\\Psi_{n\\ell m} (r, \\theta, \\phi) = R_{n\\ell}(r) Y_{\\ell m} (\\theta, \\phi),\n",
    "$$\n",
    "where $$\\ R_{n\\ell}(r) \\ $$ is the radial part and $$\\ Y_{\\ell m}(\\theta, \\phi) \\ $$ is the angular part (spherical harmonics).\n",
    "\n",
    "#### Radial Part Is\n",
    "$$\n",
    "R_{n\\ell}(r) = \\sqrt{\\left( \\frac{2Z}{n a_0} \\right)^3 \\frac{(n-\\ell-1)!}{2n(n+\\ell)!}} \\, e^{-Zr/na_0} \\left( \\frac{2Zr}{na_0} \\right)^\\ell L_{n-\\ell-1}^{2\\ell+1} \\left( \\frac{2Zr}{na_0} \\right),\n",
    "$$\n",
    "where:\n",
    "- Z is the atomic number or the number of protons in the nucleus\n",
    "- $(L_{n-\\ell-1}^{2\\ell+1} )$ are the associated Laguerre polynomials.\n",
    "\\\\\n",
    "\n",
    "#### The mean distance of electron from the nucleus for this case is given as:\n",
    "$$\n",
    "\\langle r \\rangle = \\int_0^\\infty R_{n\\ell}^2(r) r^3 \\, dr.\n",
    "$$\n",
    " There's only radial part since, as we assumed that our nucleus was a point so our angular part is normalized. Only radial part affects this mean radius and there is no involvement of angular parts in this."
   ]
  },
  {
   "cell_type": "code",
   "execution_count": 88,
   "id": "5c6d24bc-3f76-4f22-9422-930127765227",
   "metadata": {},
   "outputs": [],
   "source": [
    "#Before we blindly go on to solve, we define the variables and symbols in sympy, lets start by defining r,a,n and l\n",
    "\n",
    "r, a = smp.symbols('r a', real=True, positive=True) \n",
    "n, l ,z = smp.symbols('n l z', integer=True, positive=True)    \n",
    "\n",
    "# Our n and l are integers and cannot take decimal values."
   ]
  },
  {
   "cell_type": "markdown",
   "id": "a1e202c9-bd89-428f-88e8-22179834b994",
   "metadata": {},
   "source": [
    "### Defining the radial part."
   ]
  },
  {
   "cell_type": "code",
   "execution_count": 93,
   "id": "c6c33194-8286-4798-a025-0bb646ff2d94",
   "metadata": {},
   "outputs": [],
   "source": [
    "#Now we define this monstrous expression in latex but I'll be using sympy's fractional operators and not divide stuff directly.\n",
    "#While doing this I have to import associated laguerre polynomials in sympy.\n",
    "\n",
    "from sympy import assoc_laguerre\n",
    "\n",
    "# Defining the radial wavefunction \n",
    "\n",
    "R = smp.sqrt(((2*z/(n*a))**3) * (smp.factorial(n - l - 1) / (2 * n * smp.factorial(n + l)))) * \\\n",
    "    smp.exp(-z * r / (n * a)) * ((2 * z * r) / (n * a))**l * \\\n",
    "    assoc_laguerre(n - l - 1, 2 * l + 1, (2 * z * r) / (n * a))"
   ]
  },
  {
   "cell_type": "markdown",
   "id": "61ab15fd-ff41-4732-b9ff-7f9941dfe09f",
   "metadata": {},
   "source": [
    "#### Now its time to define a general function that takes in our R along with values of n,l and z to return us the computed integral."
   ]
  },
  {
   "cell_type": "code",
   "execution_count": 108,
   "id": "c993ff92-6e5e-4d97-9b0e-f91cfcef0fc1",
   "metadata": {},
   "outputs": [
    {
     "name": "stdin",
     "output_type": "stream",
     "text": [
      "Enter the principal quantum number n:  1\n",
      "Enter the angular momentum quantum number l:  0\n",
      "Enter the proton number z:  2\n"
     ]
    },
    {
     "name": "stdout",
     "output_type": "stream",
     "text": [
      "\n",
      "Radial Wavefunction R_{nl}:\n",
      "      -2⋅r \n",
      "      ─────\n",
      "        a  \n",
      "4⋅√2⋅ℯ     \n",
      "───────────\n",
      "    3/2    \n",
      "   a       \n",
      "\n",
      "Mean radial distance <r>:\n",
      "3⋅a\n",
      "───\n",
      " 4 \n"
     ]
    }
   ],
   "source": [
    "#Don't worry if this seems cluttered since I have made alot of mistakes while defining everything, start with simple R_nl, define it directly\n",
    "#Then proceed to add different parameters, i.e define a function that takes in values or n , l and z to compute the integral for <r>\n",
    "#After you are content with your code, try to add parameters to return errors if wrong values of n, l or z are given. \n",
    "# I am thinking of plotting the probability densities with respect to <r> for each wavefunction.\n",
    "\n",
    "def mean_r(nv, lv, zv):\n",
    "    # This part of function returns error if wrong n or l are given\n",
    "    if nv <= 0:\n",
    "        raise ValueError(\"Principal quantum number n must be positive.\")\n",
    "    if lv < 0 or lv >= nv:\n",
    "        raise ValueError(\"Angular momentum quantum number l must satisfy 0 <= l < n.\")\n",
    "    if not isinstance(zv, int) or zv <= 0:\n",
    "        raise ValueError(\"Atomic number must be a positive integer.\")\n",
    "    \n",
    "    #Here I am preparing R_nl for the case with atomic number z\n",
    "    R_nl = R.subs([(n, nv), (l, lv), (z, zv)])\n",
    "    \n",
    "    # This part computes <r>\n",
    "    mean_r = smp.integrate(R_nl**2 * r**3, (r, 0, smp.oo))\n",
    "    \n",
    "    return R_nl, mean_r\n",
    "\n",
    "# Taking inputs\n",
    "try:\n",
    "    nv = int(input(\"Enter the principal quantum number n: \"))\n",
    "    lv = int(input(\"Enter the angular momentum quantum number l: \"))\n",
    "    zv = int(input(\"Enter the proton number z: \"))\n",
    "    \n",
    "    radial_wavefunction, mean_distance = mean_r(nv, lv, zv)\n",
    "\n",
    "    print(\"\\nRadial Wavefunction R_{nl}:\")\n",
    "    smp.pprint(radial_wavefunction)\n",
    "\n",
    "    print(\"\\nMean radial distance <r>:\")\n",
    "    smp.pprint(mean_distance)\n",
    "\n",
    "except ValueError as e:\n",
    "    print(f\"Error: {e}\")\n",
    "\n",
    "#I really need some sleep at this point"
   ]
  },
  {
   "cell_type": "code",
   "execution_count": null,
   "id": "8953fc14-320d-4382-924b-f6972f4692d5",
   "metadata": {},
   "outputs": [],
   "source": []
  }
 ],
 "metadata": {
  "kernelspec": {
   "display_name": "Python 3 (ipykernel)",
   "language": "python",
   "name": "python3"
  },
  "language_info": {
   "codemirror_mode": {
    "name": "ipython",
    "version": 3
   },
   "file_extension": ".py",
   "mimetype": "text/x-python",
   "name": "python",
   "nbconvert_exporter": "python",
   "pygments_lexer": "ipython3",
   "version": "3.12.7"
  }
 },
 "nbformat": 4,
 "nbformat_minor": 5
}
